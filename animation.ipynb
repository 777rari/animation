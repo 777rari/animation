{
 "cells": [
  {
   "cell_type": "code",
   "execution_count": null,
   "id": "c133205d-d17b-4100-8743-b3eee159b126",
   "metadata": {},
   "outputs": [],
   "source": [
    "from qiskit import *\n",
    "import matplotlib.pyplot as plt\n",
    "import numpy as np\n",
    "from math import pi\n",
    "from qiskit import QuantumCircuit, ClassicalRegister, QuantumRegister, transpile\n",
    "from qiskit.tools.visualization import circuit_drawer\n",
    "from qiskit.quantum_info import state_fidelity\n",
    "from qiskit import BasicAer\n",
    "q = QuantumRegister(1)"
   ]
  },
  {
   "cell_type": "code",
   "execution_count": null,
   "id": "cb2e7815-900a-4774-8fe2-6f558aec0067",
   "metadata": {},
   "outputs": [],
   "source": [
    "from qiskit import *\n",
    "qc = QuantumCircuit(1)\n",
    "qc.h(0)\n",
    "qc.z(0)\n",
    "qc.h(0)\n",
    "qc.draw(output='mpl')"
   ]
  },
  {
   "cell_type": "code",
   "execution_count": null,
   "id": "719fdfe3-7ea4-4495-a835-f91509c3114a",
   "metadata": {},
   "outputs": [],
   "source": [
    "from qiskit.visualization import visualize_transition\n",
    "visualize_transition(qc)"
   ]
  },
  {
   "cell_type": "code",
   "execution_count": null,
   "id": "8f7bbd2c-a2b9-4504-9cec-041d9a07d457",
   "metadata": {},
   "outputs": [],
   "source": [
    "from qiskit import *\n",
    "qc2 = QuantumCircuit(1)\n",
    "qc2.x(0)\n",
    "qc2.draw(output='mpl')"
   ]
  },
  {
   "cell_type": "code",
   "execution_count": null,
   "id": "6d8c23de-fe18-4e92-b528-0a8946713ae9",
   "metadata": {},
   "outputs": [],
   "source": [
    "from qiskit.visualization import visualize_transition\n",
    "visualize_transition(qc2)"
   ]
  },
  {
   "cell_type": "code",
   "execution_count": null,
   "id": "e55b8755-2f88-4faa-b8f1-c67a10575b38",
   "metadata": {},
   "outputs": [],
   "source": []
  }
 ],
 "metadata": {
  "kernelspec": {
   "display_name": "Python 3 [Default]",
   "language": "python",
   "name": "python3"
  },
  "language_info": {
   "codemirror_mode": {
    "name": "ipython",
    "version": 3
   },
   "file_extension": ".py",
   "mimetype": "text/x-python",
   "name": "python",
   "nbconvert_exporter": "python",
   "pygments_lexer": "ipython3",
   "version": "3.9.10"
  }
 },
 "nbformat": 4,
 "nbformat_minor": 5
}
